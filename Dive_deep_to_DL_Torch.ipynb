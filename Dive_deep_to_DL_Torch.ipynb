{
  "nbformat": 4,
  "nbformat_minor": 0,
  "metadata": {
    "colab": {
      "provenance": [],
      "authorship_tag": "ABX9TyPodqpnfPKPoDe4xWBnOHHS",
      "include_colab_link": true
    },
    "kernelspec": {
      "name": "python3",
      "display_name": "Python 3"
    },
    "language_info": {
      "name": "python"
    }
  },
  "cells": [
    {
      "cell_type": "markdown",
      "metadata": {
        "id": "view-in-github",
        "colab_type": "text"
      },
      "source": [
        "<a href=\"https://colab.research.google.com/github/800zeng/GenAI1/blob/main/Dive_deep_to_DL_Torch.ipynb\" target=\"_parent\"><img src=\"https://colab.research.google.com/assets/colab-badge.svg\" alt=\"Open In Colab\"/></a>"
      ]
    },
    {
      "cell_type": "code",
      "source": [
        "import torch\n",
        "import numpy as np"
      ],
      "metadata": {
        "id": "bvlL2bBBqGUG"
      },
      "execution_count": null,
      "outputs": []
    },
    {
      "cell_type": "markdown",
      "source": [
        "# **Numpy vs. Pytorch to get computation graph**"
      ],
      "metadata": {
        "id": "Jwqm3aFBfsdI"
      }
    },
    {
      "cell_type": "code",
      "source": [
        "np.random.seed(0)\n",
        "N, D = 3, 4\n",
        "x = np.random.randn(N, D)\n",
        "y = np.random.randn(N, D)\n",
        "z = np.random.randn(N, D)\n",
        "x, y, z"
      ],
      "metadata": {
        "colab": {
          "base_uri": "https://localhost:8080/"
        },
        "id": "aMXEcG8Me1-5",
        "outputId": "24c0124a-4e11-4450-c1c3-2d7303539d99"
      },
      "execution_count": null,
      "outputs": [
        {
          "output_type": "execute_result",
          "data": {
            "text/plain": [
              "(array([[ 1.76405235,  0.40015721,  0.97873798,  2.2408932 ],\n",
              "        [ 1.86755799, -0.97727788,  0.95008842, -0.15135721],\n",
              "        [-0.10321885,  0.4105985 ,  0.14404357,  1.45427351]]),\n",
              " array([[ 0.76103773,  0.12167502,  0.44386323,  0.33367433],\n",
              "        [ 1.49407907, -0.20515826,  0.3130677 , -0.85409574],\n",
              "        [-2.55298982,  0.6536186 ,  0.8644362 , -0.74216502]]),\n",
              " array([[ 2.26975462, -1.45436567,  0.04575852, -0.18718385],\n",
              "        [ 1.53277921,  1.46935877,  0.15494743,  0.37816252],\n",
              "        [-0.88778575, -1.98079647, -0.34791215,  0.15634897]]))"
            ]
          },
          "metadata": {},
          "execution_count": 2
        }
      ]
    },
    {
      "cell_type": "code",
      "source": [
        "a = x * y\n",
        "b = a + z\n",
        "c = np.sum(b)\n",
        "a, b, c"
      ],
      "metadata": {
        "colab": {
          "base_uri": "https://localhost:8080/"
        },
        "id": "RksJPLl8e2Cn",
        "outputId": "83c066c6-27f1-4cfe-9a53-fd110929ba15"
      },
      "execution_count": null,
      "outputs": [
        {
          "output_type": "execute_result",
          "data": {
            "text/plain": [
              "(array([[ 1.34251038,  0.04868913,  0.43442581,  0.74772853],\n",
              "        [ 2.79027931,  0.20049663,  0.297442  ,  0.12927355],\n",
              "        [ 0.26351668,  0.26837482,  0.12451648, -1.07931093]]),\n",
              " array([[ 3.61226501, -1.40567654,  0.48018432,  0.56054468],\n",
              "        [ 4.32305853,  1.6698554 ,  0.45238942,  0.50743607],\n",
              "        [-0.62426907, -1.71242165, -0.22339567, -0.92296196]]),\n",
              " 6.717008537800067)"
            ]
          },
          "metadata": {},
          "execution_count": 3
        }
      ]
    },
    {
      "cell_type": "code",
      "source": [
        "grad_c = 1\n",
        "grad_b = grad_c * np.ones((N, D))\n",
        "grad_a = grad_b.copy()\n",
        "grad_z = grad_b.copy()\n",
        "grad_x = grad_a * y\n",
        "grad_y = grad_a * x\n",
        "print('grand_b', grad_b, 'grand_a', grad_a, 'grand_z', grad_z, 'grand_x', grad_x, 'grand_y', grad_y)"
      ],
      "metadata": {
        "colab": {
          "base_uri": "https://localhost:8080/"
        },
        "id": "YGTm2yEBe2F2",
        "outputId": "5217d2c6-764a-4b39-e816-fa78adebb635"
      },
      "execution_count": null,
      "outputs": [
        {
          "output_type": "stream",
          "name": "stdout",
          "text": [
            "grand_b [[1. 1. 1. 1.]\n",
            " [1. 1. 1. 1.]\n",
            " [1. 1. 1. 1.]] grand_a [[1. 1. 1. 1.]\n",
            " [1. 1. 1. 1.]\n",
            " [1. 1. 1. 1.]] grand_z [[1. 1. 1. 1.]\n",
            " [1. 1. 1. 1.]\n",
            " [1. 1. 1. 1.]] grand_x [[ 0.76103773  0.12167502  0.44386323  0.33367433]\n",
            " [ 1.49407907 -0.20515826  0.3130677  -0.85409574]\n",
            " [-2.55298982  0.6536186   0.8644362  -0.74216502]] grand_y [[ 1.76405235  0.40015721  0.97873798  2.2408932 ]\n",
            " [ 1.86755799 -0.97727788  0.95008842 -0.15135721]\n",
            " [-0.10321885  0.4105985   0.14404357  1.45427351]]\n"
          ]
        }
      ]
    },
    {
      "cell_type": "code",
      "source": [
        "# TROCH\n",
        "N, D = 3, 4\n",
        "x = torch.randn(N, D, requires_grad=True)\n",
        "y = torch.randn(N, D, requires_grad=True)\n",
        "z = torch.randn(N, D, requires_grad=True)\n",
        "x, y, z"
      ],
      "metadata": {
        "colab": {
          "base_uri": "https://localhost:8080/"
        },
        "id": "5hat9-nBe2Ja",
        "outputId": "8004d09b-c607-4b36-ac44-b8226d1c26e5"
      },
      "execution_count": null,
      "outputs": [
        {
          "output_type": "execute_result",
          "data": {
            "text/plain": [
              "(tensor([[-0.6316,  0.0711, -1.0862,  0.0627],\n",
              "         [ 1.0462,  1.7559,  0.8001, -0.4680],\n",
              "         [ 1.1423,  0.5165,  0.8130,  1.6144]], requires_grad=True),\n",
              " tensor([[ 1.0043,  0.8696,  0.0918,  1.5185],\n",
              "         [-1.0776, -0.1524, -0.5951,  0.2018],\n",
              "         [ 0.8187,  1.0242,  0.4863, -0.1448]], requires_grad=True),\n",
              " tensor([[ 0.9381, -0.3624,  0.7494, -0.0773],\n",
              "         [-0.1627, -0.9731,  0.6774,  0.2538],\n",
              "         [-0.3949, -0.0471,  0.3408, -1.4254]], requires_grad=True))"
            ]
          },
          "metadata": {},
          "execution_count": 21
        }
      ]
    },
    {
      "cell_type": "code",
      "source": [
        "a = x * y\n",
        "b = a + z\n",
        "c = torch.sum(b)\n",
        "a, b, c"
      ],
      "metadata": {
        "colab": {
          "base_uri": "https://localhost:8080/"
        },
        "id": "KBvRN20F5Vbf",
        "outputId": "1848fd72-b399-40d7-8123-acd645dd697f"
      },
      "execution_count": null,
      "outputs": [
        {
          "output_type": "execute_result",
          "data": {
            "text/plain": [
              "(tensor([[-0.6343,  0.0618, -0.0997,  0.0952],\n",
              "         [-1.1274, -0.2676, -0.4761, -0.0945],\n",
              "         [ 0.9352,  0.5290,  0.3954, -0.2338]], grad_fn=<MulBackward0>),\n",
              " tensor([[ 0.3039, -0.3006,  0.6496,  0.0179],\n",
              "         [-1.2901, -1.2407,  0.2012,  0.1594],\n",
              "         [ 0.5403,  0.4820,  0.7362, -1.6592]], grad_fn=<AddBackward0>),\n",
              " tensor(-1.4001, grad_fn=<SumBackward0>))"
            ]
          },
          "metadata": {},
          "execution_count": 22
        }
      ]
    },
    {
      "cell_type": "code",
      "source": [
        "c.backward()\n",
        "print(x.grad, y.grad, z.grad)"
      ],
      "metadata": {
        "colab": {
          "base_uri": "https://localhost:8080/"
        },
        "id": "qR0xdxROe1Jk",
        "outputId": "cc5275ea-557b-4d96-8cf8-49600e292c89"
      },
      "execution_count": null,
      "outputs": [
        {
          "output_type": "stream",
          "name": "stdout",
          "text": [
            "tensor([[ 1.0043,  0.8696,  0.0918,  1.5185],\n",
            "        [-1.0776, -0.1524, -0.5951,  0.2018],\n",
            "        [ 0.8187,  1.0242,  0.4863, -0.1448]]) tensor([[-0.6316,  0.0711, -1.0862,  0.0627],\n",
            "        [ 1.0462,  1.7559,  0.8001, -0.4680],\n",
            "        [ 1.1423,  0.5165,  0.8130,  1.6144]]) tensor([[1., 1., 1., 1.],\n",
            "        [1., 1., 1., 1.],\n",
            "        [1., 1., 1., 1.]])\n"
          ]
        }
      ]
    },
    {
      "cell_type": "code",
      "source": [],
      "metadata": {
        "id": "ZJ01c8QK5VgO"
      },
      "execution_count": null,
      "outputs": []
    },
    {
      "cell_type": "code",
      "source": [],
      "metadata": {
        "id": "5UExS3Ql5Vjs"
      },
      "execution_count": null,
      "outputs": []
    },
    {
      "cell_type": "markdown",
      "source": [
        "Let’s assume that we are interested in differentiating the function 2x^2\n",
        " with respect to the column vector\n",
        ". To start, we assign x an initial value."
      ],
      "metadata": {
        "id": "wYg9bsEj5b5A"
      }
    },
    {
      "cell_type": "code",
      "source": [
        "x = torch.arange(4.0)\n",
        "x"
      ],
      "metadata": {
        "colab": {
          "base_uri": "https://localhost:8080/"
        },
        "id": "pyPyIdbO5dR-",
        "outputId": "4cba6249-6e67-4f56-b621-c1227f5cb780"
      },
      "execution_count": null,
      "outputs": [
        {
          "output_type": "execute_result",
          "data": {
            "text/plain": [
              "tensor([0., 1., 2., 3.])"
            ]
          },
          "metadata": {},
          "execution_count": 6
        }
      ]
    },
    {
      "cell_type": "code",
      "source": [
        "x.requires_grad_(True)  # Same as `x = torch.arange(4.0, requires_grad=True)`\n",
        "x.grad # the grad is None by default"
      ],
      "metadata": {
        "id": "hDZ-mAni5iiQ"
      },
      "execution_count": null,
      "outputs": []
    },
    {
      "cell_type": "code",
      "source": [
        "y = 2 * torch.dot(x, x)\n",
        "y"
      ],
      "metadata": {
        "colab": {
          "base_uri": "https://localhost:8080/"
        },
        "id": "l6-Jy16b8stm",
        "outputId": "038c4d59-7974-42d0-ce8a-1e5ee97da85f"
      },
      "execution_count": null,
      "outputs": [
        {
          "output_type": "execute_result",
          "data": {
            "text/plain": [
              "tensor(28., grad_fn=<MulBackward0>)"
            ]
          },
          "metadata": {},
          "execution_count": 8
        }
      ]
    },
    {
      "cell_type": "code",
      "source": [
        "y.backward()\n",
        "x.grad"
      ],
      "metadata": {
        "colab": {
          "base_uri": "https://localhost:8080/"
        },
        "id": "Z6YchImXanyJ",
        "outputId": "c5b3febb-efd2-4d8f-92c1-d11d6719acb9"
      },
      "execution_count": null,
      "outputs": [
        {
          "output_type": "execute_result",
          "data": {
            "text/plain": [
              "tensor([ 0.,  4.,  8., 12.])"
            ]
          },
          "metadata": {},
          "execution_count": 9
        }
      ]
    },
    {
      "cell_type": "code",
      "source": [
        "# We already know that the gradient of the function 2*(x**2)\n",
        "#  with respect to\n",
        "#  should be\n",
        "x.grad == 4 * x"
      ],
      "metadata": {
        "colab": {
          "base_uri": "https://localhost:8080/"
        },
        "id": "5nObE9SyZ3ec",
        "outputId": "41192870-9e32-418e-a9be-3cbe613e4805"
      },
      "execution_count": null,
      "outputs": [
        {
          "output_type": "execute_result",
          "data": {
            "text/plain": [
              "tensor([True, True, True, True])"
            ]
          },
          "metadata": {},
          "execution_count": 10
        }
      ]
    },
    {
      "cell_type": "code",
      "source": [
        "# /****Now let’s calculate another function of x and take its gradient.\n",
        "#  Note that PyTorch does not automatically reset the gradient buffer when we record a new gradient.\n",
        "#  Instead, the new gradient is added to the already-stored gradient. This behavior comes in handy\n",
        "#  when we want to optimize the sum of multiple objective functions. To reset the gradient buffer, we can call x.grad.zero_() as follows:\n",
        "\n",
        "x.grad.zero_()\n",
        "y = 2*x.sum()\n",
        "y.backward()\n",
        "x.grad"
      ],
      "metadata": {
        "colab": {
          "base_uri": "https://localhost:8080/"
        },
        "id": "E_ytJ86eJ_tz",
        "outputId": "31383b3d-09f3-4137-c54e-ff3ab44eabb7"
      },
      "execution_count": null,
      "outputs": [
        {
          "output_type": "execute_result",
          "data": {
            "text/plain": [
              "tensor([2., 2., 2., 2.])"
            ]
          },
          "metadata": {},
          "execution_count": 11
        }
      ]
    },
    {
      "cell_type": "code",
      "source": [
        "y = x.sum()\n",
        "y"
      ],
      "metadata": {
        "colab": {
          "base_uri": "https://localhost:8080/"
        },
        "id": "tSsl0vDUlMnm",
        "outputId": "5f242f05-cadb-45f1-e935-a45df36c55a0"
      },
      "execution_count": null,
      "outputs": [
        {
          "output_type": "execute_result",
          "data": {
            "text/plain": [
              "tensor(6., grad_fn=<SumBackward0>)"
            ]
          },
          "metadata": {},
          "execution_count": 12
        }
      ]
    },
    {
      "cell_type": "code",
      "source": [
        "x, x.shape"
      ],
      "metadata": {
        "colab": {
          "base_uri": "https://localhost:8080/"
        },
        "id": "jqTmLYdz0yVh",
        "outputId": "b437c548-68f3-4f75-f068-f229e5d66938"
      },
      "execution_count": null,
      "outputs": [
        {
          "output_type": "execute_result",
          "data": {
            "text/plain": [
              "(tensor([0., 1., 2., 3.], requires_grad=True), torch.Size([4]))"
            ]
          },
          "metadata": {},
          "execution_count": 13
        }
      ]
    },
    {
      "cell_type": "code",
      "source": [
        "x1 = torch.rand(1,2)\n",
        "x1.shape"
      ],
      "metadata": {
        "colab": {
          "base_uri": "https://localhost:8080/"
        },
        "id": "7y32D_wIQKvE",
        "outputId": "1ea53e06-4ead-4e20-abfb-f773dd934402"
      },
      "execution_count": null,
      "outputs": [
        {
          "output_type": "execute_result",
          "data": {
            "text/plain": [
              "torch.Size([1, 2])"
            ]
          },
          "metadata": {},
          "execution_count": 14
        }
      ]
    },
    {
      "cell_type": "code",
      "source": [
        "torch.transpose(x1,0,1)"
      ],
      "metadata": {
        "colab": {
          "base_uri": "https://localhost:8080/"
        },
        "id": "oQtfdRFWRavm",
        "outputId": "d2d9e2a8-955a-4a79-f0d2-3740d5db715c"
      },
      "execution_count": null,
      "outputs": [
        {
          "output_type": "execute_result",
          "data": {
            "text/plain": [
              "tensor([[0.3419],\n",
              "        [0.7301]])"
            ]
          },
          "metadata": {},
          "execution_count": 15
        }
      ]
    },
    {
      "cell_type": "code",
      "source": [
        "x.shape"
      ],
      "metadata": {
        "colab": {
          "base_uri": "https://localhost:8080/"
        },
        "id": "yH4fVi2EQiRA",
        "outputId": "81f2ee64-be34-45e1-f3d4-184182512833"
      },
      "execution_count": null,
      "outputs": [
        {
          "output_type": "execute_result",
          "data": {
            "text/plain": [
              "torch.Size([4])"
            ]
          },
          "metadata": {},
          "execution_count": 16
        }
      ]
    },
    {
      "cell_type": "code",
      "source": [],
      "metadata": {
        "id": "aRNpe-WwSHxX"
      },
      "execution_count": null,
      "outputs": []
    }
  ]
}