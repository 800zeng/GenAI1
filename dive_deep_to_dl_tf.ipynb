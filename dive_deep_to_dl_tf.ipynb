{
  "nbformat": 4,
  "nbformat_minor": 0,
  "metadata": {
    "colab": {
      "provenance": [],
      "authorship_tag": "ABX9TyOMpKHXQ+9YgK5RmqSpKGX8",
      "include_colab_link": true
    },
    "kernelspec": {
      "name": "python3",
      "display_name": "Python 3"
    },
    "language_info": {
      "name": "python"
    }
  },
  "cells": [
    {
      "cell_type": "markdown",
      "metadata": {
        "id": "view-in-github",
        "colab_type": "text"
      },
      "source": [
        "<a href=\"https://colab.research.google.com/github/800zeng/GenAI1/blob/main/dive_deep_to_dl_tf.ipynb\" target=\"_parent\"><img src=\"https://colab.research.google.com/assets/colab-badge.svg\" alt=\"Open In Colab\"/></a>"
      ]
    },
    {
      "cell_type": "code",
      "execution_count": null,
      "metadata": {
        "id": "TtjBMZ-JWMqO"
      },
      "outputs": [],
      "source": [
        "import tensorflow as tf\n",
        "import numpy as np"
      ]
    },
    {
      "cell_type": "code",
      "source": [
        "# x = t.range(12, dtype=t.float32)\n",
        "x = tf.range(12,)\n",
        "x"
      ],
      "metadata": {
        "colab": {
          "base_uri": "https://localhost:8080/"
        },
        "id": "7Qm75DfkWPr_",
        "outputId": "196a3685-e39c-4dfe-bca8-3e5ac3ec669c"
      },
      "execution_count": null,
      "outputs": [
        {
          "output_type": "execute_result",
          "data": {
            "text/plain": [
              "<tf.Tensor: shape=(12,), dtype=int32, numpy=array([ 0,  1,  2,  3,  4,  5,  6,  7,  8,  9, 10, 11], dtype=int32)>"
            ]
          },
          "metadata": {},
          "execution_count": 4
        }
      ]
    },
    {
      "cell_type": "code",
      "source": [
        "x .shape"
      ],
      "metadata": {
        "colab": {
          "base_uri": "https://localhost:8080/"
        },
        "id": "BhcraO2UWUin",
        "outputId": "27c3c37d-e1b7-44bd-939c-6c907b72689d"
      },
      "execution_count": null,
      "outputs": [
        {
          "output_type": "execute_result",
          "data": {
            "text/plain": [
              "TensorShape([12])"
            ]
          },
          "metadata": {},
          "execution_count": 5
        }
      ]
    },
    {
      "cell_type": "code",
      "source": [
        "X = tf.reshape(x, (3,-1))\n",
        "X"
      ],
      "metadata": {
        "colab": {
          "base_uri": "https://localhost:8080/"
        },
        "id": "sa2-FTikWZJy",
        "outputId": "67e835b1-df18-4d15-e618-f9b519a8ad95"
      },
      "execution_count": null,
      "outputs": [
        {
          "output_type": "execute_result",
          "data": {
            "text/plain": [
              "<tf.Tensor: shape=(3, 4), dtype=int32, numpy=\n",
              "array([[ 0,  1,  2,  3],\n",
              "       [ 4,  5,  6,  7],\n",
              "       [ 8,  9, 10, 11]], dtype=int32)>"
            ]
          },
          "metadata": {},
          "execution_count": 6
        }
      ]
    },
    {
      "cell_type": "code",
      "source": [
        "tf.zeros((2,3,4))"
      ],
      "metadata": {
        "id": "vW-JTszhWtGC",
        "colab": {
          "base_uri": "https://localhost:8080/"
        },
        "outputId": "d737f404-9806-41cd-a7cd-867215a7ce33"
      },
      "execution_count": null,
      "outputs": [
        {
          "output_type": "execute_result",
          "data": {
            "text/plain": [
              "<tf.Tensor: shape=(2, 3, 4), dtype=float32, numpy=\n",
              "array([[[0., 0., 0., 0.],\n",
              "        [0., 0., 0., 0.],\n",
              "        [0., 0., 0., 0.]],\n",
              "\n",
              "       [[0., 0., 0., 0.],\n",
              "        [0., 0., 0., 0.],\n",
              "        [0., 0., 0., 0.]]], dtype=float32)>"
            ]
          },
          "metadata": {},
          "execution_count": 7
        }
      ]
    },
    {
      "cell_type": "code",
      "source": [
        "tf.ones((2,3,4))"
      ],
      "metadata": {
        "colab": {
          "base_uri": "https://localhost:8080/"
        },
        "id": "wEbFjM48YV7A",
        "outputId": "de6539ca-dfba-4532-95e9-0eaffd580dd6"
      },
      "execution_count": null,
      "outputs": [
        {
          "output_type": "execute_result",
          "data": {
            "text/plain": [
              "<tf.Tensor: shape=(2, 3, 4), dtype=float32, numpy=\n",
              "array([[[1., 1., 1., 1.],\n",
              "        [1., 1., 1., 1.],\n",
              "        [1., 1., 1., 1.]],\n",
              "\n",
              "       [[1., 1., 1., 1.],\n",
              "        [1., 1., 1., 1.],\n",
              "        [1., 1., 1., 1.]]], dtype=float32)>"
            ]
          },
          "metadata": {},
          "execution_count": 8
        }
      ]
    },
    {
      "cell_type": "code",
      "source": [
        "tf.random.normal((3,4))"
      ],
      "metadata": {
        "colab": {
          "base_uri": "https://localhost:8080/"
        },
        "id": "M1dauAjUYdrM",
        "outputId": "f8337123-fde4-4d70-914d-55d5228e3995"
      },
      "execution_count": null,
      "outputs": [
        {
          "output_type": "execute_result",
          "data": {
            "text/plain": [
              "<tf.Tensor: shape=(3, 4), dtype=float32, numpy=\n",
              "array([[ 1.7013    ,  1.112184  , -1.0849292 ,  0.19162767],\n",
              "       [-1.5255338 ,  1.6822884 ,  1.5571865 , -0.15306692],\n",
              "       [-1.4645792 , -0.73550975,  0.7717161 , -1.017562  ]],\n",
              "      dtype=float32)>"
            ]
          },
          "metadata": {},
          "execution_count": 9
        }
      ]
    },
    {
      "cell_type": "code",
      "source": [
        "tf.constant([[2,3],[2,3]])"
      ],
      "metadata": {
        "id": "lIYY9gL4Yj3p",
        "colab": {
          "base_uri": "https://localhost:8080/"
        },
        "outputId": "961f3d62-0949-442b-c911-38faab882e7d"
      },
      "execution_count": null,
      "outputs": [
        {
          "output_type": "execute_result",
          "data": {
            "text/plain": [
              "<tf.Tensor: shape=(2, 2), dtype=int32, numpy=\n",
              "array([[2, 3],\n",
              "       [2, 3]], dtype=int32)>"
            ]
          },
          "metadata": {},
          "execution_count": 10
        }
      ]
    },
    {
      "cell_type": "code",
      "source": [
        "x = tf.constant([1.0, 2, 4, 8])\n",
        "y = tf.constant([2.0, 2, 2, 2])\n",
        "x + y, x - y, x * y, x / y, x ** y  # **运算符是求幂运算"
      ],
      "metadata": {
        "colab": {
          "base_uri": "https://localhost:8080/"
        },
        "id": "W0NM5ie-aGCR",
        "outputId": "48ea795f-f0a0-4eef-a004-7d5194796d6f"
      },
      "execution_count": null,
      "outputs": [
        {
          "output_type": "execute_result",
          "data": {
            "text/plain": [
              "(<tf.Tensor: shape=(4,), dtype=float32, numpy=array([ 3.,  4.,  6., 10.], dtype=float32)>,\n",
              " <tf.Tensor: shape=(4,), dtype=float32, numpy=array([-1.,  0.,  2.,  6.], dtype=float32)>,\n",
              " <tf.Tensor: shape=(4,), dtype=float32, numpy=array([ 2.,  4.,  8., 16.], dtype=float32)>,\n",
              " <tf.Tensor: shape=(4,), dtype=float32, numpy=array([0.5, 1. , 2. , 4. ], dtype=float32)>,\n",
              " <tf.Tensor: shape=(4,), dtype=float32, numpy=array([ 1.,  4., 16., 64.], dtype=float32)>)"
            ]
          },
          "metadata": {},
          "execution_count": 11
        }
      ]
    },
    {
      "cell_type": "code",
      "source": [
        "tf.exp(x)"
      ],
      "metadata": {
        "colab": {
          "base_uri": "https://localhost:8080/"
        },
        "id": "R98Ieq8CpOJp",
        "outputId": "cb8ce625-00ca-45ec-8323-173a40c38613"
      },
      "execution_count": null,
      "outputs": [
        {
          "output_type": "execute_result",
          "data": {
            "text/plain": [
              "<tf.Tensor: shape=(4,), dtype=float32, numpy=\n",
              "array([2.7182817e+00, 7.3890562e+00, 5.4598148e+01, 2.9809580e+03],\n",
              "      dtype=float32)>"
            ]
          },
          "metadata": {},
          "execution_count": 12
        }
      ]
    },
    {
      "cell_type": "code",
      "source": [
        "X = tf.reshape(tf.range(12, dtype=tf.float32), (3, 4))\n",
        "Y = tf.constant([[2.2, 1, 4, 3], [1, 2, 3, 4], [4, 3, 2, 1.88]])\n",
        "tf.concat([X, Y], axis=0), tf.concat([X, Y], axis=1)"
      ],
      "metadata": {
        "colab": {
          "base_uri": "https://localhost:8080/"
        },
        "id": "_NIzp_JEpOTf",
        "outputId": "56f92cd0-01eb-4354-bc2e-8740661f6234"
      },
      "execution_count": null,
      "outputs": [
        {
          "output_type": "execute_result",
          "data": {
            "text/plain": [
              "(<tf.Tensor: shape=(6, 4), dtype=float32, numpy=\n",
              " array([[ 0.  ,  1.  ,  2.  ,  3.  ],\n",
              "        [ 4.  ,  5.  ,  6.  ,  7.  ],\n",
              "        [ 8.  ,  9.  , 10.  , 11.  ],\n",
              "        [ 2.2 ,  1.  ,  4.  ,  3.  ],\n",
              "        [ 1.  ,  2.  ,  3.  ,  4.  ],\n",
              "        [ 4.  ,  3.  ,  2.  ,  1.88]], dtype=float32)>,\n",
              " <tf.Tensor: shape=(3, 8), dtype=float32, numpy=\n",
              " array([[ 0.  ,  1.  ,  2.  ,  3.  ,  2.2 ,  1.  ,  4.  ,  3.  ],\n",
              "        [ 4.  ,  5.  ,  6.  ,  7.  ,  1.  ,  2.  ,  3.  ,  4.  ],\n",
              "        [ 8.  ,  9.  , 10.  , 11.  ,  4.  ,  3.  ,  2.  ,  1.88]],\n",
              "       dtype=float32)>)"
            ]
          },
          "metadata": {},
          "execution_count": 13
        }
      ]
    },
    {
      "cell_type": "code",
      "source": [
        "X == Y, X < Y, X.numpy()"
      ],
      "metadata": {
        "colab": {
          "base_uri": "https://localhost:8080/"
        },
        "id": "V4ROaqS7pOXv",
        "outputId": "f941532f-5230-4303-a973-f9e6b63e9e41"
      },
      "execution_count": null,
      "outputs": [
        {
          "output_type": "execute_result",
          "data": {
            "text/plain": [
              "(<tf.Tensor: shape=(3, 4), dtype=bool, numpy=\n",
              " array([[False,  True, False,  True],\n",
              "        [False, False, False, False],\n",
              "        [False, False, False, False]])>,\n",
              " <tf.Tensor: shape=(3, 4), dtype=bool, numpy=\n",
              " array([[ True, False,  True, False],\n",
              "        [False, False, False, False],\n",
              "        [False, False, False, False]])>,\n",
              " array([[ 0.,  1.,  2.,  3.],\n",
              "        [ 4.,  5.,  6.,  7.],\n",
              "        [ 8.,  9., 10., 11.]], dtype=float32))"
            ]
          },
          "metadata": {},
          "execution_count": 14
        }
      ]
    },
    {
      "cell_type": "code",
      "source": [],
      "metadata": {
        "id": "O4qDggJPpOa7"
      },
      "execution_count": null,
      "outputs": []
    },
    {
      "cell_type": "markdown",
      "source": [
        "# **Linear Algebra**"
      ],
      "metadata": {
        "id": "xHo-zs1OCajH"
      }
    },
    {
      "cell_type": "code",
      "source": [
        "# scalar\n",
        "x = tf.tensor(3.0)\n",
        "y = tf.tensor(2.0)\n",
        "x, y, x + y, x * y, x / y, x**y"
      ],
      "metadata": {
        "colab": {
          "base_uri": "https://localhost:8080/",
          "height": 198
        },
        "id": "sHeQ8tFxaLuL",
        "outputId": "6bdef959-e89e-40c3-b4f3-55834b5edbb6"
      },
      "execution_count": null,
      "outputs": [
        {
          "output_type": "error",
          "ename": "AttributeError",
          "evalue": "module 'tensorflow' has no attribute 'tensor'",
          "traceback": [
            "\u001b[0;31m---------------------------------------------------------------------------\u001b[0m",
            "\u001b[0;31mAttributeError\u001b[0m                            Traceback (most recent call last)",
            "\u001b[0;32m<ipython-input-15-631bccadf5be>\u001b[0m in \u001b[0;36m<cell line: 2>\u001b[0;34m()\u001b[0m\n\u001b[1;32m      1\u001b[0m \u001b[0;31m# scalar\u001b[0m\u001b[0;34m\u001b[0m\u001b[0;34m\u001b[0m\u001b[0m\n\u001b[0;32m----> 2\u001b[0;31m \u001b[0mx\u001b[0m \u001b[0;34m=\u001b[0m \u001b[0mtf\u001b[0m\u001b[0;34m.\u001b[0m\u001b[0mtensor\u001b[0m\u001b[0;34m(\u001b[0m\u001b[0;36m3.0\u001b[0m\u001b[0;34m)\u001b[0m\u001b[0;34m\u001b[0m\u001b[0;34m\u001b[0m\u001b[0m\n\u001b[0m\u001b[1;32m      3\u001b[0m \u001b[0my\u001b[0m \u001b[0;34m=\u001b[0m \u001b[0mtf\u001b[0m\u001b[0;34m.\u001b[0m\u001b[0mtensor\u001b[0m\u001b[0;34m(\u001b[0m\u001b[0;36m2.0\u001b[0m\u001b[0;34m)\u001b[0m\u001b[0;34m\u001b[0m\u001b[0;34m\u001b[0m\u001b[0m\n\u001b[1;32m      4\u001b[0m \u001b[0mx\u001b[0m\u001b[0;34m,\u001b[0m \u001b[0my\u001b[0m\u001b[0;34m,\u001b[0m \u001b[0mx\u001b[0m \u001b[0;34m+\u001b[0m \u001b[0my\u001b[0m\u001b[0;34m,\u001b[0m \u001b[0mx\u001b[0m \u001b[0;34m*\u001b[0m \u001b[0my\u001b[0m\u001b[0;34m,\u001b[0m \u001b[0mx\u001b[0m \u001b[0;34m/\u001b[0m \u001b[0my\u001b[0m\u001b[0;34m,\u001b[0m \u001b[0mx\u001b[0m\u001b[0;34m**\u001b[0m\u001b[0my\u001b[0m\u001b[0;34m\u001b[0m\u001b[0;34m\u001b[0m\u001b[0m\n",
            "\u001b[0;31mAttributeError\u001b[0m: module 'tensorflow' has no attribute 'tensor'"
          ]
        }
      ]
    },
    {
      "cell_type": "code",
      "source": [
        "# vectors\n",
        "# For example, if we were training a model to predict the risk of a loan defaulting,\n",
        "# we might associate each applicant with a vector whose components correspond to quantities like their income,\n",
        "# length of employment, or number of previous defaults. Vectors are implemented as 1st -order tensors.\n",
        "x = tf.arange(3)\n",
        "x"
      ],
      "metadata": {
        "id": "RsqZnAFmC_rp"
      },
      "execution_count": null,
      "outputs": []
    },
    {
      "cell_type": "code",
      "source": [
        "# indexing, lenth\n",
        "x[2], len(x), x.shape"
      ],
      "metadata": {
        "id": "vfFVmQJmDOSm"
      },
      "execution_count": null,
      "outputs": []
    },
    {
      "cell_type": "code",
      "source": [
        "#, Matrices\n",
        "# A in R(m x n), 2nd order tensor with shape (m, n), m # of rows, n # of cols, When m = n, we say it a square\n",
        "A = tf.reshape(tf.range(24), (2,3,4))\n",
        "A, tf.reduce_sum(A)\n",
        "# this sum will produce a scalar"
      ],
      "metadata": {
        "id": "1sk8psLmDzV8"
      },
      "execution_count": null,
      "outputs": []
    },
    {
      "cell_type": "code",
      "source": [
        "# Tensors, 3rd order, axes corresponding to H, W, Channel in image as example, a collection of images is represented as 4th order tensor\n",
        "X = t.arange(24).reshape(2,3,4)"
      ],
      "metadata": {
        "id": "d8GUwg7-M-Ib"
      },
      "execution_count": null,
      "outputs": []
    },
    {
      "cell_type": "code",
      "source": [
        "a = 2\n",
        "a + X, (a*X).shape"
      ],
      "metadata": {
        "id": "3xI74mZ1UU8f"
      },
      "execution_count": null,
      "outputs": []
    },
    {
      "cell_type": "code",
      "source": [
        "# basic arithmetic property o tensor\n",
        "# element wise addition\n",
        "A = t.arange(12).reshape(3,4)\n",
        "B = A.clone()\n",
        "\n",
        "A, A + B"
      ],
      "metadata": {
        "id": "uRFZUWvXO1wV"
      },
      "execution_count": null,
      "outputs": []
    },
    {
      "cell_type": "code",
      "source": [
        "# elementwise production.\n",
        "A*B,"
      ],
      "metadata": {
        "id": "hFUH_3mBRGgM"
      },
      "execution_count": null,
      "outputs": []
    },
    {
      "cell_type": "code",
      "source": [
        "# matrix multiplication, Amxn * Bnxk = Cmxk\n"
      ],
      "metadata": {
        "id": "pVV4uYi6RZb7"
      },
      "execution_count": null,
      "outputs": []
    },
    {
      "cell_type": "code",
      "source": [
        "a = t.ones((2, 5, 4))\n",
        "a.shape"
      ],
      "metadata": {
        "id": "zeqPIeL61qj8"
      },
      "execution_count": null,
      "outputs": []
    },
    {
      "cell_type": "code",
      "source": [
        "c = a.sum(axis = [0,2])\n",
        "c"
      ],
      "metadata": {
        "id": "MUnW3zvn1u4i"
      },
      "execution_count": null,
      "outputs": []
    },
    {
      "cell_type": "code",
      "source": [
        "c = a.sum(axis = 1, keepdims = True)\n",
        "c"
      ],
      "metadata": {
        "id": "6gToCZEn12id"
      },
      "execution_count": null,
      "outputs": []
    },
    {
      "cell_type": "code",
      "source": [
        "A = tf.reshape(tf.range(6, dtype=tf.float32), (2, 3))\n",
        "A"
      ],
      "metadata": {
        "id": "ySE_wvN3Kepx"
      },
      "execution_count": null,
      "outputs": []
    },
    {
      "cell_type": "markdown",
      "source": [
        "# **reduce sum**"
      ],
      "metadata": {
        "id": "ire2CPLOj0DB"
      }
    },
    {
      "cell_type": "code",
      "source": [
        "A.shape, tf.reduce_sum(A)"
      ],
      "metadata": {
        "id": "W9_3CPr6jx-W"
      },
      "execution_count": null,
      "outputs": []
    },
    {
      "cell_type": "code",
      "source": [
        "A.shape, tf.reduce_sum(A, axis=0)"
      ],
      "metadata": {
        "id": "xDQyN1DxUVcg"
      },
      "execution_count": null,
      "outputs": []
    },
    {
      "cell_type": "code",
      "source": [
        "sum_A = tf.reduce_sum(A, axis=0, keepdims=True)\n",
        "sum_A, sum_A.shape"
      ],
      "metadata": {
        "id": "z66HeNcULEvM"
      },
      "execution_count": null,
      "outputs": []
    },
    {
      "cell_type": "markdown",
      "source": [
        "# **Non reduce sum**"
      ],
      "metadata": {
        "id": "ZqXI7pZQWh1L"
      }
    },
    {
      "cell_type": "code",
      "source": [
        "sum_A = tf.reduce_sum(A, axis=1, keepdims=True)\n",
        "sum_A, sum_A.shape"
      ],
      "metadata": {
        "id": "w-4MFHXd6FW9"
      },
      "execution_count": null,
      "outputs": []
    },
    {
      "cell_type": "code",
      "source": [
        "A/sum_A"
      ],
      "metadata": {
        "id": "-0e2Ral4Kuh5"
      },
      "execution_count": null,
      "outputs": []
    },
    {
      "cell_type": "code",
      "source": [
        "tf.cumsum(A, axis=0)"
      ],
      "metadata": {
        "id": "u7Qhf15lUIZJ"
      },
      "execution_count": null,
      "outputs": []
    },
    {
      "cell_type": "markdown",
      "source": [
        "# **Dot Products**"
      ],
      "metadata": {
        "id": "AlrBJ-P_WlgB"
      }
    },
    {
      "cell_type": "code",
      "source": [
        "'''So far, we have only performed elementwise operations, sums, and averages. And if this was all we could do, linear algebra would not deserve its own section. Fortunately, this is where things get more interesting. One of the most fundamental operations is the dot product. Given two vectors\n",
        ", their dot product\n",
        " (also known as inner product,\n",
        ") is a sum over the products of the elements at the same position:\n",
        ".'''\n",
        "x = tf.range(3,dtype=tf.float32)\n",
        "y = tf.ones(3,dtype=tf.float32)\n",
        "x, y, tf.tensordot(x, y, axes=1)"
      ],
      "metadata": {
        "id": "pgtEHgHAWcJO"
      },
      "execution_count": null,
      "outputs": []
    },
    {
      "cell_type": "code",
      "source": [
        "# Equivalently, we can calculate the dot product of two vectors by performing an elementwise multiplication followed by a sum:\n",
        "tf.reduce_sum(x * y)\n",
        "\n",
        "'''Dot products are useful in a wide range of contexts. For example, given some set of values, denoted by a vector\n",
        ", and a set of weights, denoted by\n",
        ", the weighted sum of the values in\n",
        " according to the weights\n",
        " could be expressed as the dot product\n",
        ". When the weights are nonnegative and sum to\n",
        ", i.e.,\n",
        ", the dot product expresses a weighted average. After normalizing two vectors to have unit length, the dot products express the cosine of the angle between them. Later in this section, we will formally introduce this notion of length.\n",
        "'''\n"
      ],
      "metadata": {
        "id": "Vx_ADRsQW2C1"
      },
      "execution_count": null,
      "outputs": []
    },
    {
      "cell_type": "markdown",
      "source": [
        "# **Matrix–Vector Products**"
      ],
      "metadata": {
        "id": "JSjt-PNsk2GJ"
      }
    },
    {
      "cell_type": "code",
      "source": [
        "# tbd"
      ],
      "metadata": {
        "id": "nts1cVulka6s"
      },
      "execution_count": null,
      "outputs": []
    },
    {
      "cell_type": "markdown",
      "source": [
        "# **Calculus**"
      ],
      "metadata": {
        "id": "V2jyDmUdlYgb"
      }
    },
    {
      "cell_type": "code",
      "source": [
        "def f(x):\n",
        "    return 3 * x ** 2 - 4 * x"
      ],
      "metadata": {
        "id": "JvmyLI0CldEF"
      },
      "execution_count": null,
      "outputs": []
    },
    {
      "cell_type": "code",
      "source": [
        "for h in 10.0**np.arange(-1, -6, -1):\n",
        "    print(f'h={h:.5f}, numerical limit={(f(1+h)-f(1))/h:.5f}')"
      ],
      "metadata": {
        "colab": {
          "base_uri": "https://localhost:8080/"
        },
        "id": "6j79n2jZliS1",
        "outputId": "9af609d3-fa9a-492a-8e74-0baabad7e2c9"
      },
      "execution_count": null,
      "outputs": [
        {
          "output_type": "stream",
          "name": "stdout",
          "text": [
            "h=0.10000, numerical limit=2.30000\n",
            "h=0.01000, numerical limit=2.03000\n",
            "h=0.00100, numerical limit=2.00300\n",
            "h=0.00010, numerical limit=2.00030\n",
            "h=0.00001, numerical limit=2.00003\n"
          ]
        }
      ]
    },
    {
      "cell_type": "code",
      "source": [
        "np.arange(-6, -1, 1)"
      ],
      "metadata": {
        "colab": {
          "base_uri": "https://localhost:8080/"
        },
        "id": "6k5HmIXapsOm",
        "outputId": "ddab26cb-1865-4ef2-8088-b924259ddb3f"
      },
      "execution_count": null,
      "outputs": [
        {
          "output_type": "execute_result",
          "data": {
            "text/plain": [
              "array([-6, -5, -4, -3, -2])"
            ]
          },
          "metadata": {},
          "execution_count": 36
        }
      ]
    },
    {
      "cell_type": "code",
      "source": [],
      "metadata": {
        "id": "bvlL2bBBqGUG"
      },
      "execution_count": null,
      "outputs": []
    }
  ]
}